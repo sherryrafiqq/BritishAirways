{
 "cells": [
  {
   "cell_type": "code",
   "execution_count": 1,
   "id": "5fb251ad",
   "metadata": {},
   "outputs": [],
   "source": [
    "import pandas as pd \n",
    "\n",
    "df = pd.read_excel(\"British Airways Summer Schedule Dataset - Forage Data Science Task 1.xlsx\")\n"
   ]
  },
  {
   "cell_type": "code",
   "execution_count": 2,
   "id": "72a0cdae",
   "metadata": {},
   "outputs": [
    {
     "data": {
      "text/plain": [
       "(10000, 17)"
      ]
     },
     "execution_count": 2,
     "metadata": {},
     "output_type": "execute_result"
    }
   ],
   "source": [
    "df.shape"
   ]
  },
  {
   "cell_type": "code",
   "execution_count": 3,
   "id": "011f2ee2",
   "metadata": {},
   "outputs": [
    {
     "data": {
      "application/vnd.microsoft.datawrangler.viewer.v0+json": {
       "columns": [
        {
         "name": "index",
         "rawType": "object",
         "type": "string"
        },
        {
         "name": "FLIGHT_DATE",
         "rawType": "object",
         "type": "unknown"
        },
        {
         "name": "FIRST_CLASS_SEATS",
         "rawType": "float64",
         "type": "float"
        },
        {
         "name": "BUSINESS_CLASS_SEATS",
         "rawType": "float64",
         "type": "float"
        },
        {
         "name": "ECONOMY_SEATS",
         "rawType": "float64",
         "type": "float"
        },
        {
         "name": "TIER1_ELIGIBLE_PAX",
         "rawType": "float64",
         "type": "float"
        },
        {
         "name": "TIER2_ELIGIBLE_PAX",
         "rawType": "float64",
         "type": "float"
        },
        {
         "name": "TIER3_ELIGIBLE_PAX",
         "rawType": "float64",
         "type": "float"
        }
       ],
       "ref": "34138111-c7d0-4c33-9ed4-9ffdc27c9517",
       "rows": [
        [
         "count",
         "10000",
         "10000.0",
         "10000.0",
         "10000.0",
         "10000.0",
         "10000.0",
         "10000.0"
        ],
        [
         "mean",
         "2025-07-14 07:04:04.800000",
         "1.5472",
         "25.0738",
         "198.3859",
         "0.6077",
         "7.9519",
         "30.4214"
        ],
        [
         "min",
         "2025-04-01 00:00:00",
         "0.0",
         "0.0",
         "160.0",
         "0.0",
         "0.0",
         "0.0"
        ],
        [
         "25%",
         "2025-05-22 00:00:00",
         "0.0",
         "8.0",
         "167.0",
         "0.0",
         "4.0",
         "20.0"
        ],
        [
         "50%",
         "2025-07-13 00:00:00",
         "0.0",
         "17.0",
         "175.0",
         "0.0",
         "8.0",
         "30.0"
        ],
        [
         "75%",
         "2025-09-06 00:00:00",
         "0.0",
         "35.0",
         "180.0",
         "1.0",
         "11.0",
         "41.0"
        ],
        [
         "max",
         "2025-10-30 00:00:00",
         "14.0",
         "97.0",
         "358.0",
         "20.0",
         "29.0",
         "92.0"
        ],
        [
         "std",
         null,
         "3.6253946693638963",
         "22.14234815728003",
         "53.6534775271372",
         "1.0062315639036066",
         "5.130752269588007",
         "15.284233144593246"
        ]
       ],
       "shape": {
        "columns": 7,
        "rows": 8
       }
      },
      "text/html": [
       "<div>\n",
       "<style scoped>\n",
       "    .dataframe tbody tr th:only-of-type {\n",
       "        vertical-align: middle;\n",
       "    }\n",
       "\n",
       "    .dataframe tbody tr th {\n",
       "        vertical-align: top;\n",
       "    }\n",
       "\n",
       "    .dataframe thead th {\n",
       "        text-align: right;\n",
       "    }\n",
       "</style>\n",
       "<table border=\"1\" class=\"dataframe\">\n",
       "  <thead>\n",
       "    <tr style=\"text-align: right;\">\n",
       "      <th></th>\n",
       "      <th>FLIGHT_DATE</th>\n",
       "      <th>FIRST_CLASS_SEATS</th>\n",
       "      <th>BUSINESS_CLASS_SEATS</th>\n",
       "      <th>ECONOMY_SEATS</th>\n",
       "      <th>TIER1_ELIGIBLE_PAX</th>\n",
       "      <th>TIER2_ELIGIBLE_PAX</th>\n",
       "      <th>TIER3_ELIGIBLE_PAX</th>\n",
       "    </tr>\n",
       "  </thead>\n",
       "  <tbody>\n",
       "    <tr>\n",
       "      <th>count</th>\n",
       "      <td>10000</td>\n",
       "      <td>10000.000000</td>\n",
       "      <td>10000.000000</td>\n",
       "      <td>10000.000000</td>\n",
       "      <td>10000.000000</td>\n",
       "      <td>10000.000000</td>\n",
       "      <td>10000.000000</td>\n",
       "    </tr>\n",
       "    <tr>\n",
       "      <th>mean</th>\n",
       "      <td>2025-07-14 07:04:04.800000</td>\n",
       "      <td>1.547200</td>\n",
       "      <td>25.073800</td>\n",
       "      <td>198.385900</td>\n",
       "      <td>0.607700</td>\n",
       "      <td>7.951900</td>\n",
       "      <td>30.421400</td>\n",
       "    </tr>\n",
       "    <tr>\n",
       "      <th>min</th>\n",
       "      <td>2025-04-01 00:00:00</td>\n",
       "      <td>0.000000</td>\n",
       "      <td>0.000000</td>\n",
       "      <td>160.000000</td>\n",
       "      <td>0.000000</td>\n",
       "      <td>0.000000</td>\n",
       "      <td>0.000000</td>\n",
       "    </tr>\n",
       "    <tr>\n",
       "      <th>25%</th>\n",
       "      <td>2025-05-22 00:00:00</td>\n",
       "      <td>0.000000</td>\n",
       "      <td>8.000000</td>\n",
       "      <td>167.000000</td>\n",
       "      <td>0.000000</td>\n",
       "      <td>4.000000</td>\n",
       "      <td>20.000000</td>\n",
       "    </tr>\n",
       "    <tr>\n",
       "      <th>50%</th>\n",
       "      <td>2025-07-13 00:00:00</td>\n",
       "      <td>0.000000</td>\n",
       "      <td>17.000000</td>\n",
       "      <td>175.000000</td>\n",
       "      <td>0.000000</td>\n",
       "      <td>8.000000</td>\n",
       "      <td>30.000000</td>\n",
       "    </tr>\n",
       "    <tr>\n",
       "      <th>75%</th>\n",
       "      <td>2025-09-06 00:00:00</td>\n",
       "      <td>0.000000</td>\n",
       "      <td>35.000000</td>\n",
       "      <td>180.000000</td>\n",
       "      <td>1.000000</td>\n",
       "      <td>11.000000</td>\n",
       "      <td>41.000000</td>\n",
       "    </tr>\n",
       "    <tr>\n",
       "      <th>max</th>\n",
       "      <td>2025-10-30 00:00:00</td>\n",
       "      <td>14.000000</td>\n",
       "      <td>97.000000</td>\n",
       "      <td>358.000000</td>\n",
       "      <td>20.000000</td>\n",
       "      <td>29.000000</td>\n",
       "      <td>92.000000</td>\n",
       "    </tr>\n",
       "    <tr>\n",
       "      <th>std</th>\n",
       "      <td>NaN</td>\n",
       "      <td>3.625395</td>\n",
       "      <td>22.142348</td>\n",
       "      <td>53.653478</td>\n",
       "      <td>1.006232</td>\n",
       "      <td>5.130752</td>\n",
       "      <td>15.284233</td>\n",
       "    </tr>\n",
       "  </tbody>\n",
       "</table>\n",
       "</div>"
      ],
      "text/plain": [
       "                      FLIGHT_DATE  FIRST_CLASS_SEATS  BUSINESS_CLASS_SEATS  \\\n",
       "count                       10000       10000.000000          10000.000000   \n",
       "mean   2025-07-14 07:04:04.800000           1.547200             25.073800   \n",
       "min           2025-04-01 00:00:00           0.000000              0.000000   \n",
       "25%           2025-05-22 00:00:00           0.000000              8.000000   \n",
       "50%           2025-07-13 00:00:00           0.000000             17.000000   \n",
       "75%           2025-09-06 00:00:00           0.000000             35.000000   \n",
       "max           2025-10-30 00:00:00          14.000000             97.000000   \n",
       "std                           NaN           3.625395             22.142348   \n",
       "\n",
       "       ECONOMY_SEATS  TIER1_ELIGIBLE_PAX  TIER2_ELIGIBLE_PAX  \\\n",
       "count   10000.000000        10000.000000        10000.000000   \n",
       "mean      198.385900            0.607700            7.951900   \n",
       "min       160.000000            0.000000            0.000000   \n",
       "25%       167.000000            0.000000            4.000000   \n",
       "50%       175.000000            0.000000            8.000000   \n",
       "75%       180.000000            1.000000           11.000000   \n",
       "max       358.000000           20.000000           29.000000   \n",
       "std        53.653478            1.006232            5.130752   \n",
       "\n",
       "       TIER3_ELIGIBLE_PAX  \n",
       "count        10000.000000  \n",
       "mean            30.421400  \n",
       "min              0.000000  \n",
       "25%             20.000000  \n",
       "50%             30.000000  \n",
       "75%             41.000000  \n",
       "max             92.000000  \n",
       "std             15.284233  "
      ]
     },
     "execution_count": 3,
     "metadata": {},
     "output_type": "execute_result"
    }
   ],
   "source": [
    "df.describe()"
   ]
  },
  {
   "cell_type": "code",
   "execution_count": 4,
   "id": "3abe0279",
   "metadata": {},
   "outputs": [
    {
     "name": "stdout",
     "output_type": "stream",
     "text": [
      "Number of duplicated rows: False    10000\n",
      "Name: count, dtype: int64\n",
      "Number nulls: FLIGHT_DATE  FLIGHT_TIME  TIME_OF_DAY  AIRLINE_CD  FLIGHT_NO  DEPARTURE_STATION_CD  ARRIVAL_STATION_CD  ARRIVAL_COUNTRY  ARRIVAL_REGION  HAUL   AIRCRAFT_TYPE  FIRST_CLASS_SEATS  BUSINESS_CLASS_SEATS  ECONOMY_SEATS  TIER1_ELIGIBLE_PAX  TIER2_ELIGIBLE_PAX  TIER3_ELIGIBLE_PAX\n",
      "False        False        False        False       False      False                 False               False            False           False  False          False              False                 False          False               False               False                 10000\n",
      "Name: count, dtype: int64\n"
     ]
    }
   ],
   "source": [
    "def ClearNullsAndDuplicates(df):\n",
    "\tprint(f\"Number of duplicated rows: {df.duplicated().value_counts()}\")\n",
    "\tdf = df.drop_duplicates()\n",
    "\tprint(f\"Number nulls: {df.isnull().value_counts()}\")\n",
    "\tdf = df.dropna()\n",
    "\t\n",
    "\treturn df\n",
    "\n",
    "df2=ClearNullsAndDuplicates(df)"
   ]
  },
  {
   "cell_type": "code",
   "execution_count": 5,
   "id": "3ab9fb87",
   "metadata": {},
   "outputs": [],
   "source": [
    "# Convert FLIGHT_TIME from string to datetime.time format and combine with FLIGHT_DATE\n",
    "df2['FLIGHT_TIME'] = pd.to_datetime(df2['FLIGHT_DATE'].astype(str) + ' ' + df2['FLIGHT_TIME'].astype(str))\n",
    "# Drop the original FLIGHT_DATE column\n",
    "df2 = df2.drop('FLIGHT_DATE', axis=1)"
   ]
  },
  {
   "cell_type": "markdown",
   "id": "13fb1952",
   "metadata": {},
   "source": [
    "Since all flights depart from LHR and the Airline is British Airways, we decided to drop these two columns for dimensionality reduction."
   ]
  },
  {
   "cell_type": "code",
   "execution_count": 6,
   "id": "4bfe6f60",
   "metadata": {},
   "outputs": [],
   "source": [
    "df2 = df2.drop(columns={'AIRLINE_CD','DEPARTURE_STATION_CD'}, axis=1)"
   ]
  },
  {
   "cell_type": "code",
   "execution_count": 7,
   "id": "90435d6c",
   "metadata": {},
   "outputs": [
    {
     "name": "stdout",
     "output_type": "stream",
     "text": [
      "Total records: 10000\n",
      "Unique flight numbers: 6037\n",
      "\n",
      "Number of flights with duplicate flight numbers: 6689\n",
      "\n",
      "Sample of duplicate flights:\n"
     ]
    },
    {
     "data": {
      "application/vnd.microsoft.datawrangler.viewer.v0+json": {
       "columns": [
        {
         "name": "index",
         "rawType": "int64",
         "type": "integer"
        },
        {
         "name": "FLIGHT_TIME",
         "rawType": "datetime64[ns]",
         "type": "datetime"
        },
        {
         "name": "TIME_OF_DAY",
         "rawType": "object",
         "type": "string"
        },
        {
         "name": "FLIGHT_NO",
         "rawType": "object",
         "type": "string"
        },
        {
         "name": "ARRIVAL_STATION_CD",
         "rawType": "object",
         "type": "string"
        },
        {
         "name": "ARRIVAL_COUNTRY",
         "rawType": "object",
         "type": "string"
        },
        {
         "name": "ARRIVAL_REGION",
         "rawType": "object",
         "type": "string"
        },
        {
         "name": "HAUL",
         "rawType": "object",
         "type": "string"
        },
        {
         "name": "AIRCRAFT_TYPE",
         "rawType": "object",
         "type": "string"
        },
        {
         "name": "FIRST_CLASS_SEATS",
         "rawType": "int64",
         "type": "integer"
        },
        {
         "name": "BUSINESS_CLASS_SEATS",
         "rawType": "int64",
         "type": "integer"
        },
        {
         "name": "ECONOMY_SEATS",
         "rawType": "int64",
         "type": "integer"
        },
        {
         "name": "TIER1_ELIGIBLE_PAX",
         "rawType": "int64",
         "type": "integer"
        },
        {
         "name": "TIER2_ELIGIBLE_PAX",
         "rawType": "int64",
         "type": "integer"
        },
        {
         "name": "TIER3_ELIGIBLE_PAX",
         "rawType": "int64",
         "type": "integer"
        }
       ],
       "ref": "31ec2a9f-7162-4842-a786-32219bce010f",
       "rows": [
        [
         "983",
         "2025-07-21 08:38:00",
         "Morning",
         "BA1003",
         "CDG",
         "France",
         "Europe",
         "SHORT",
         "A320",
         "0",
         "6",
         "174",
         "0",
         "8",
         "30"
        ],
        [
         "9973",
         "2025-08-17 12:59:00",
         "Lunchtime",
         "BA1003",
         "MAD",
         "Spain",
         "Europe",
         "SHORT",
         "A320",
         "0",
         "2",
         "178",
         "0",
         "11",
         "40"
        ],
        [
         "3986",
         "2025-10-29 06:49:00",
         "Morning",
         "BA1010",
         "DXB",
         "UAE",
         "Middle East",
         "LONG",
         "B777",
         "8",
         "49",
         "178",
         "2",
         "11",
         "39"
        ],
        [
         "2464",
         "2025-09-08 21:02:00",
         "Evening",
         "BA1010",
         "LAX",
         "USA",
         "North America",
         "LONG",
         "A350",
         "0",
         "56",
         "275",
         "2",
         "13",
         "44"
        ],
        [
         "5219",
         "2025-06-10 13:01:00",
         "Lunchtime",
         "BA1011",
         "FRA",
         "Germany",
         "Europe",
         "SHORT",
         "A320",
         "0",
         "17",
         "163",
         "0",
         "1",
         "12"
        ],
        [
         "6073",
         "2025-06-05 06:40:00",
         "Morning",
         "BA1011",
         "HND",
         "Japan",
         "Asia",
         "LONG",
         "B787",
         "0",
         "31",
         "173",
         "0",
         "10",
         "37"
        ],
        [
         "4324",
         "2025-06-09 12:33:00",
         "Lunchtime",
         "BA1011",
         "DFW",
         "USA",
         "North America",
         "LONG",
         "A350",
         "0",
         "56",
         "275",
         "0",
         "4",
         "18"
        ],
        [
         "1306",
         "2025-07-29 15:24:00",
         "Afternoon",
         "BA1015",
         "DFW",
         "USA",
         "North America",
         "LONG",
         "A380",
         "14",
         "97",
         "358",
         "1",
         "8",
         "31"
        ],
        [
         "355",
         "2025-10-11 19:42:00",
         "Evening",
         "BA1015",
         "CDG",
         "France",
         "Europe",
         "SHORT",
         "A320",
         "0",
         "15",
         "165",
         "1",
         "2",
         "15"
        ],
        [
         "3601",
         "2025-06-05 08:47:00",
         "Morning",
         "BA1019",
         "BCN",
         "Spain",
         "Europe",
         "SHORT",
         "A320",
         "0",
         "15",
         "165",
         "0",
         "4",
         "19"
        ]
       ],
       "shape": {
        "columns": 14,
        "rows": 10
       }
      },
      "text/html": [
       "<div>\n",
       "<style scoped>\n",
       "    .dataframe tbody tr th:only-of-type {\n",
       "        vertical-align: middle;\n",
       "    }\n",
       "\n",
       "    .dataframe tbody tr th {\n",
       "        vertical-align: top;\n",
       "    }\n",
       "\n",
       "    .dataframe thead th {\n",
       "        text-align: right;\n",
       "    }\n",
       "</style>\n",
       "<table border=\"1\" class=\"dataframe\">\n",
       "  <thead>\n",
       "    <tr style=\"text-align: right;\">\n",
       "      <th></th>\n",
       "      <th>FLIGHT_TIME</th>\n",
       "      <th>TIME_OF_DAY</th>\n",
       "      <th>FLIGHT_NO</th>\n",
       "      <th>ARRIVAL_STATION_CD</th>\n",
       "      <th>ARRIVAL_COUNTRY</th>\n",
       "      <th>ARRIVAL_REGION</th>\n",
       "      <th>HAUL</th>\n",
       "      <th>AIRCRAFT_TYPE</th>\n",
       "      <th>FIRST_CLASS_SEATS</th>\n",
       "      <th>BUSINESS_CLASS_SEATS</th>\n",
       "      <th>ECONOMY_SEATS</th>\n",
       "      <th>TIER1_ELIGIBLE_PAX</th>\n",
       "      <th>TIER2_ELIGIBLE_PAX</th>\n",
       "      <th>TIER3_ELIGIBLE_PAX</th>\n",
       "    </tr>\n",
       "  </thead>\n",
       "  <tbody>\n",
       "    <tr>\n",
       "      <th>983</th>\n",
       "      <td>2025-07-21 08:38:00</td>\n",
       "      <td>Morning</td>\n",
       "      <td>BA1003</td>\n",
       "      <td>CDG</td>\n",
       "      <td>France</td>\n",
       "      <td>Europe</td>\n",
       "      <td>SHORT</td>\n",
       "      <td>A320</td>\n",
       "      <td>0</td>\n",
       "      <td>6</td>\n",
       "      <td>174</td>\n",
       "      <td>0</td>\n",
       "      <td>8</td>\n",
       "      <td>30</td>\n",
       "    </tr>\n",
       "    <tr>\n",
       "      <th>9973</th>\n",
       "      <td>2025-08-17 12:59:00</td>\n",
       "      <td>Lunchtime</td>\n",
       "      <td>BA1003</td>\n",
       "      <td>MAD</td>\n",
       "      <td>Spain</td>\n",
       "      <td>Europe</td>\n",
       "      <td>SHORT</td>\n",
       "      <td>A320</td>\n",
       "      <td>0</td>\n",
       "      <td>2</td>\n",
       "      <td>178</td>\n",
       "      <td>0</td>\n",
       "      <td>11</td>\n",
       "      <td>40</td>\n",
       "    </tr>\n",
       "    <tr>\n",
       "      <th>3986</th>\n",
       "      <td>2025-10-29 06:49:00</td>\n",
       "      <td>Morning</td>\n",
       "      <td>BA1010</td>\n",
       "      <td>DXB</td>\n",
       "      <td>UAE</td>\n",
       "      <td>Middle East</td>\n",
       "      <td>LONG</td>\n",
       "      <td>B777</td>\n",
       "      <td>8</td>\n",
       "      <td>49</td>\n",
       "      <td>178</td>\n",
       "      <td>2</td>\n",
       "      <td>11</td>\n",
       "      <td>39</td>\n",
       "    </tr>\n",
       "    <tr>\n",
       "      <th>2464</th>\n",
       "      <td>2025-09-08 21:02:00</td>\n",
       "      <td>Evening</td>\n",
       "      <td>BA1010</td>\n",
       "      <td>LAX</td>\n",
       "      <td>USA</td>\n",
       "      <td>North America</td>\n",
       "      <td>LONG</td>\n",
       "      <td>A350</td>\n",
       "      <td>0</td>\n",
       "      <td>56</td>\n",
       "      <td>275</td>\n",
       "      <td>2</td>\n",
       "      <td>13</td>\n",
       "      <td>44</td>\n",
       "    </tr>\n",
       "    <tr>\n",
       "      <th>5219</th>\n",
       "      <td>2025-06-10 13:01:00</td>\n",
       "      <td>Lunchtime</td>\n",
       "      <td>BA1011</td>\n",
       "      <td>FRA</td>\n",
       "      <td>Germany</td>\n",
       "      <td>Europe</td>\n",
       "      <td>SHORT</td>\n",
       "      <td>A320</td>\n",
       "      <td>0</td>\n",
       "      <td>17</td>\n",
       "      <td>163</td>\n",
       "      <td>0</td>\n",
       "      <td>1</td>\n",
       "      <td>12</td>\n",
       "    </tr>\n",
       "    <tr>\n",
       "      <th>6073</th>\n",
       "      <td>2025-06-05 06:40:00</td>\n",
       "      <td>Morning</td>\n",
       "      <td>BA1011</td>\n",
       "      <td>HND</td>\n",
       "      <td>Japan</td>\n",
       "      <td>Asia</td>\n",
       "      <td>LONG</td>\n",
       "      <td>B787</td>\n",
       "      <td>0</td>\n",
       "      <td>31</td>\n",
       "      <td>173</td>\n",
       "      <td>0</td>\n",
       "      <td>10</td>\n",
       "      <td>37</td>\n",
       "    </tr>\n",
       "    <tr>\n",
       "      <th>4324</th>\n",
       "      <td>2025-06-09 12:33:00</td>\n",
       "      <td>Lunchtime</td>\n",
       "      <td>BA1011</td>\n",
       "      <td>DFW</td>\n",
       "      <td>USA</td>\n",
       "      <td>North America</td>\n",
       "      <td>LONG</td>\n",
       "      <td>A350</td>\n",
       "      <td>0</td>\n",
       "      <td>56</td>\n",
       "      <td>275</td>\n",
       "      <td>0</td>\n",
       "      <td>4</td>\n",
       "      <td>18</td>\n",
       "    </tr>\n",
       "    <tr>\n",
       "      <th>1306</th>\n",
       "      <td>2025-07-29 15:24:00</td>\n",
       "      <td>Afternoon</td>\n",
       "      <td>BA1015</td>\n",
       "      <td>DFW</td>\n",
       "      <td>USA</td>\n",
       "      <td>North America</td>\n",
       "      <td>LONG</td>\n",
       "      <td>A380</td>\n",
       "      <td>14</td>\n",
       "      <td>97</td>\n",
       "      <td>358</td>\n",
       "      <td>1</td>\n",
       "      <td>8</td>\n",
       "      <td>31</td>\n",
       "    </tr>\n",
       "    <tr>\n",
       "      <th>355</th>\n",
       "      <td>2025-10-11 19:42:00</td>\n",
       "      <td>Evening</td>\n",
       "      <td>BA1015</td>\n",
       "      <td>CDG</td>\n",
       "      <td>France</td>\n",
       "      <td>Europe</td>\n",
       "      <td>SHORT</td>\n",
       "      <td>A320</td>\n",
       "      <td>0</td>\n",
       "      <td>15</td>\n",
       "      <td>165</td>\n",
       "      <td>1</td>\n",
       "      <td>2</td>\n",
       "      <td>15</td>\n",
       "    </tr>\n",
       "    <tr>\n",
       "      <th>3601</th>\n",
       "      <td>2025-06-05 08:47:00</td>\n",
       "      <td>Morning</td>\n",
       "      <td>BA1019</td>\n",
       "      <td>BCN</td>\n",
       "      <td>Spain</td>\n",
       "      <td>Europe</td>\n",
       "      <td>SHORT</td>\n",
       "      <td>A320</td>\n",
       "      <td>0</td>\n",
       "      <td>15</td>\n",
       "      <td>165</td>\n",
       "      <td>0</td>\n",
       "      <td>4</td>\n",
       "      <td>19</td>\n",
       "    </tr>\n",
       "  </tbody>\n",
       "</table>\n",
       "</div>"
      ],
      "text/plain": [
       "             FLIGHT_TIME TIME_OF_DAY FLIGHT_NO ARRIVAL_STATION_CD  \\\n",
       "983  2025-07-21 08:38:00     Morning    BA1003                CDG   \n",
       "9973 2025-08-17 12:59:00   Lunchtime    BA1003                MAD   \n",
       "3986 2025-10-29 06:49:00     Morning    BA1010                DXB   \n",
       "2464 2025-09-08 21:02:00     Evening    BA1010                LAX   \n",
       "5219 2025-06-10 13:01:00   Lunchtime    BA1011                FRA   \n",
       "6073 2025-06-05 06:40:00     Morning    BA1011                HND   \n",
       "4324 2025-06-09 12:33:00   Lunchtime    BA1011                DFW   \n",
       "1306 2025-07-29 15:24:00   Afternoon    BA1015                DFW   \n",
       "355  2025-10-11 19:42:00     Evening    BA1015                CDG   \n",
       "3601 2025-06-05 08:47:00     Morning    BA1019                BCN   \n",
       "\n",
       "     ARRIVAL_COUNTRY ARRIVAL_REGION   HAUL AIRCRAFT_TYPE  FIRST_CLASS_SEATS  \\\n",
       "983           France         Europe  SHORT          A320                  0   \n",
       "9973           Spain         Europe  SHORT          A320                  0   \n",
       "3986             UAE    Middle East   LONG          B777                  8   \n",
       "2464             USA  North America   LONG          A350                  0   \n",
       "5219         Germany         Europe  SHORT          A320                  0   \n",
       "6073           Japan           Asia   LONG          B787                  0   \n",
       "4324             USA  North America   LONG          A350                  0   \n",
       "1306             USA  North America   LONG          A380                 14   \n",
       "355           France         Europe  SHORT          A320                  0   \n",
       "3601           Spain         Europe  SHORT          A320                  0   \n",
       "\n",
       "      BUSINESS_CLASS_SEATS  ECONOMY_SEATS  TIER1_ELIGIBLE_PAX  \\\n",
       "983                      6            174                   0   \n",
       "9973                     2            178                   0   \n",
       "3986                    49            178                   2   \n",
       "2464                    56            275                   2   \n",
       "5219                    17            163                   0   \n",
       "6073                    31            173                   0   \n",
       "4324                    56            275                   0   \n",
       "1306                    97            358                   1   \n",
       "355                     15            165                   1   \n",
       "3601                    15            165                   0   \n",
       "\n",
       "      TIER2_ELIGIBLE_PAX  TIER3_ELIGIBLE_PAX  \n",
       "983                    8                  30  \n",
       "9973                  11                  40  \n",
       "3986                  11                  39  \n",
       "2464                  13                  44  \n",
       "5219                   1                  12  \n",
       "6073                  10                  37  \n",
       "4324                   4                  18  \n",
       "1306                   8                  31  \n",
       "355                    2                  15  \n",
       "3601                   4                  19  "
      ]
     },
     "metadata": {},
     "output_type": "display_data"
    },
    {
     "name": "stdout",
     "output_type": "stream",
     "text": [
      "\n",
      "Top 10 most frequent flight numbers:\n",
      "FLIGHT_NO\n",
      "BA5934    7\n",
      "BA8347    7\n",
      "BA5015    6\n",
      "BA5953    6\n",
      "BA7919    6\n",
      "BA7761    6\n",
      "BA6477    6\n",
      "BA9541    5\n",
      "BA4358    5\n",
      "BA1690    5\n",
      "Name: count, dtype: int64\n"
     ]
    }
   ],
   "source": [
    "import matplotlib.pyplot as plt\n",
    "\n",
    "# Count unique flight numbers\n",
    "unique_flights = df2['FLIGHT_NO'].nunique()\n",
    "print(f\"Total records: {len(df2)}\")\n",
    "print(f\"Unique flight numbers: {unique_flights}\")\n",
    "\n",
    "# Get duplicate flight numbers\n",
    "duplicate_flights = df2[df2['FLIGHT_NO'].duplicated(keep=False)].sort_values('FLIGHT_NO')\n",
    "print(f\"\\nNumber of flights with duplicate flight numbers: {len(duplicate_flights)}\")\n",
    "\n",
    "# Display first few rows of duplicate flights\n",
    "print(\"\\nSample of duplicate flights:\")\n",
    "display(duplicate_flights.head(10))\n",
    "\n",
    "# Optional: Count frequency of each flight number\n",
    "flight_frequency = df2['FLIGHT_NO'].value_counts()\n",
    "print(\"\\nTop 10 most frequent flight numbers:\")\n",
    "print(flight_frequency.head(10))"
   ]
  },
  {
   "cell_type": "markdown",
   "id": "710f4436",
   "metadata": {},
   "source": [
    "The seat counts (FIRST_CLASS_SEATS, etc.) set the upper limit of possible passengers in each class. However, lounge eligibility depends on more than just seat availability—it’s tied to passenger status (e.g., loyalty tier, travel class) and specific access rules (e.g., First Class customers or BA Gold Members).\n",
    "\n",
    "TIERX_ELIGIBLE_PAX is derived from who actually qualifies based on those rules, not just the seat counts. For example, a flight with 10 First Class seats might have only 5 TIER1-eligible pax if not all passengers are First Class customers or premier cardholders.\n",
    "Correlation could exist because higher seat counts in premium classes (e.g., First or Business) might increase the likelihood of eligible pax for Tiers 1 or 2. However, the exact number of eligible pax depends on booking data or passenger profiles, which aren’t directly captured by seat counts alone."
   ]
  },
  {
   "cell_type": "markdown",
   "id": "afc9561f",
   "metadata": {},
   "source": [
    "## Notes on Flight Numbers in the Dataset\n",
    "\n",
    "- ✈️ The same **flight number** can appear multiple times in the dataset with different dates (`FLIGHT_TIME`), since airlines often reuse the same flight number for repeated scheduled services.  \n",
    "  - Example: `BA1003` could be a daily London → Paris flight.  \n",
    "\n",
    "- 🗓️ **Flight number + date** together uniquely identify a **specific journey instance**.  \n",
    "\n",
    "- 🔢 By itself, `FLIGHT_NO` tells you the **service pattern** (which route, operated by which airline), but **not the exact day/time** — that comes from `FLIGHT_TIME`.\n"
   ]
  },
  {
   "cell_type": "code",
   "execution_count": 8,
   "id": "6eff64c1",
   "metadata": {},
   "outputs": [],
   "source": [
    "# import pandas as pd\n",
    "\n",
    "# # Merge into a new column\n",
    "# df2.insert(3, \"ARRIVAL_STATION_COUNTRY\", df2[\"ARRIVAL_STATION_CD\"] + \" - \" + df2[\"ARRIVAL_COUNTRY\"])\n",
    "\n",
    "# df2.drop(columns={\"ARRIVAL_STATION_CD\",\"ARRIVAL_COUNTRY\"},axis=1)\n"
   ]
  },
  {
   "cell_type": "code",
   "execution_count": 9,
   "id": "523c30d6",
   "metadata": {},
   "outputs": [
    {
     "data": {
      "text/plain": [
       "<Figure size 1000x600 with 0 Axes>"
      ]
     },
     "metadata": {},
     "output_type": "display_data"
    },
    {
     "data": {
      "image/png": "[encoded data removed]",
      "text/plain": [
       "<Figure size 640x480 with 1 Axes>"
      ]
     },
     "metadata": {},
     "output_type": "display_data"
    }
   ],
   "source": [
    "import seaborn as sns\n",
    "\n",
    "# Create a cross-tabulation of HAUL and AIRCRAFT_TYPE\n",
    "aircraft_haul_counts = pd.crosstab(df2['HAUL'], df2['AIRCRAFT_TYPE'])\n",
    "\n",
    "# Create a bar plot\n",
    "plt.figure(figsize=(10, 6))\n",
    "aircraft_haul_counts.plot(kind='bar')\n",
    "\n",
    "# Customize the plot\n",
    "plt.title('Aircraft Types by Haul Length')\n",
    "plt.xlabel('Haul Type')\n",
    "plt.ylabel('Count of Flights')\n",
    "plt.legend(title='Aircraft Type')\n",
    "plt.xticks(rotation=0)\n",
    "\n",
    "# Adjust layout to prevent label cutoff\n",
    "plt.tight_layout()"
   ]
  },
  {
   "cell_type": "code",
   "execution_count": 10,
   "id": "e1b87ede",
   "metadata": {},
   "outputs": [
    {
     "data": {
      "image/png": "[encoded data removed]",
      "text/plain": [
       "<Figure size 1000x600 with 1 Axes>"
      ]
     },
     "metadata": {},
     "output_type": "display_data"
    }
   ],
   "source": [
    "# Calculate average seats by haul type\n",
    "seats_by_haul = df2.groupby('HAUL')[['FIRST_CLASS_SEATS', 'BUSINESS_CLASS_SEATS', 'ECONOMY_SEATS']].mean()\n",
    "\n",
    "# Create stacked bar chart\n",
    "ax = seats_by_haul.plot(kind='bar', stacked=True, figsize=(10, 6))\n",
    "\n",
    "# Customize the plot\n",
    "plt.title('Average Number of Seats by Class for Each Haul Type')\n",
    "plt.xlabel('Haul Type')\n",
    "plt.ylabel('Average Number of Seats')\n",
    "plt.legend(title='Seat Class')\n",
    "plt.xticks(rotation=0)\n",
    "\n",
    "# Add value labels on the bars\n",
    "for c in ax.containers:\n",
    "    ax.bar_label(c, fmt='%.0f')\n",
    "\n",
    "plt.tight_layout()"
   ]
  },
  {
   "cell_type": "code",
   "execution_count": null,
   "id": "c0547904",
   "metadata": {},
   "outputs": [],
   "source": []
  }
 ],
 "metadata": {
  "kernelspec": {
   "display_name": "base",
   "language": "python",
   "name": "python3"
  },
  "language_info": {
   "codemirror_mode": {
    "name": "ipython",
    "version": 3
   },
   "file_extension": ".py",
   "mimetype": "text/x-python",
   "name": "python",
   "nbconvert_exporter": "python",
   "pygments_lexer": "ipython3",
   "version": "3.12.7"
  }
 },
 "nbformat": 4,
 "nbformat_minor": 5
}
